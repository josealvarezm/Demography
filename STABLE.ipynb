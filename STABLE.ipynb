{
 "cells": [
  {
   "cell_type": "code",
   "execution_count": 1,
   "metadata": {},
   "outputs": [],
   "source": [
    "# Cargar paquetes\n",
    "import matplotlib.pyplot as plt\n",
    "import numpy as np\n",
    "import pandas as pd\n",
    "import math as mt"
   ]
  },
  {
   "cell_type": "code",
   "execution_count": 3,
   "metadata": {},
   "outputs": [],
   "source": [
    "# Asignar el directorio de trabajo, donde se encuentran los datos\n",
    "import os\n",
    "os.chdir(\"C:\\\\Users\\\\oskka\\\\OneDrive\\\\Documentos\\\\José\\\\CONAPO\")"
   ]
  },
  {
   "cell_type": "code",
   "execution_count": 4,
   "metadata": {},
   "outputs": [],
   "source": [
    "# Nacimientos 2022, desde Estadísticas Vitales de INEGI\n",
    "#Descarga de datos y crear repositorio en directorio de trabajo\n",
    "#Fuente: https://www.inegi.org.mx/contenidos/programas/natalidad/datosabiertos/2022/conjunto_de_datos_natalidad_2022_csv.zip\n",
    "nacimientos = pd.read_csv('conjunto_de_datos\\\\conjunto_de_datos_natalidad_2022.csv')  "
   ]
  },
  {
   "cell_type": "code",
   "execution_count": 5,
   "metadata": {},
   "outputs": [
    {
     "name": "stderr",
     "output_type": "stream",
     "text": [
      "C:\\Users\\oskka\\AppData\\Local\\Temp\\ipykernel_14324\\3610571937.py:6: FutureWarning: The default of observed=False is deprecated and will be changed to True in a future version of pandas. Pass observed=False to retain current behavior or observed=True to adopt the future default and silence this warning.\n",
      "  nacim2= nacim.groupby(['Grupos_Edad'], as_index=False).count()\n"
     ]
    }
   ],
   "source": [
    "# Selección de nacimientos femeninos por edad de la madre\n",
    "nacim = nacimientos[(nacimientos['sexo']==2) & (nacimientos['edad_madn']<99)]\n",
    "nacim = nacim[['edad_madn']]\n",
    "# Agrupar por intervalos de edad de la madre\n",
    "nacim['Grupos_Edad'] = pd.cut(x = nacim['edad_madn'], bins=[15, 20, 25, 30, 35, 40, 45, 50], right=False)\n",
    "nacim2= nacim.groupby(['Grupos_Edad'], as_index=False).count()"
   ]
  },
  {
   "cell_type": "code",
   "execution_count": 98,
   "metadata": {},
   "outputs": [
    {
     "name": "stdout",
     "output_type": "stream",
     "text": [
      "   Grupos_Edad   x  n  POBLACION       lx     apvLx         Tx   evx\n",
      "0       [0, 1)   0  1    1025333  1000000  0.990123  78.395713  78.4\n",
      "1       [1, 5)   1  4    4116357   989225  3.950355  77.405590  78.2\n",
      "2      [5, 10)   5  5    5346845   986585  4.930376  73.455234  74.5\n",
      "3     [10, 15)  10  5    5584258   985565  4.924305  68.524859  69.5\n",
      "4     [15, 20)  15  5    5577227   984157  4.914271  63.600554  64.6\n",
      "5     [20, 25)  20  5    5583731   981551  4.898172  58.686283  59.8\n",
      "6     [25, 30)  25  5    5473009   977718  4.876659  53.788112  55.0\n",
      "7     [30, 35)  30  5    5197783   972946  4.850406  48.911453  50.3\n",
      "8     [35, 40)  35  5    4784339   967216  4.818674  44.061047  45.6\n",
      "9     [40, 45)  40  5    4405008   960253  4.778730  39.242373  40.9\n",
      "10    [45, 50)  45  5    4200185   951239  4.724790  34.463643  36.2\n",
      "11    [50, 55)  50  5    3701984   938677  4.646654  29.738853  31.7\n",
      "12    [55, 60)  55  5    3129061   919985  4.529395  25.092199  27.3\n",
      "13    [60, 65)  60  5    2509383   891773  4.351304  20.562804  23.1\n",
      "14    [65, 70)  65  5    1890318   848749  4.082409  16.211500  19.1\n",
      "15    [70, 75)  70  5    1378059   784215  3.690647  12.129091  15.5\n",
      "16    [75, 80)  75  5    1001962   692044  3.145922   8.438444  12.2\n",
      "17    [80, 85)  80  5     643044   566325  2.440523   5.292522   9.3\n",
      "18    [85, 90)  85  5     353026   409884  1.631859   2.851999   7.0\n"
     ]
    }
   ],
   "source": [
    "#Poblaciones estables: método de Lotka, con base en población femenina y nacimiento de mujeres\n",
    "# Preston, Heuveline & Guillot (2000, Cap. 7)\n",
    "df = pd.read_csv('bin\\\\tabla_de_mortalidad_2022.csv')\n",
    "#Seleccionamos población femenina y columnas de Tabla de Vida\n",
    "femen = df.iloc[23:42, 2:15]\n",
    "femen = femen.reset_index()\n",
    "femen = femen[['Grupos_Edad', 'x', 'n', 'POBLACION', 'lx', 'apvLx', 'Tx', 'evx']]\n",
    "femen['apvLx'] = femen['apvLx']/1000000\n",
    "femen['Tx'] = femen['Tx']/1000000\n",
    "\n",
    "# Población femenina en edad fértil\n",
    "femenf = (femen[femen['x'].between(15, 45)])\n",
    "print(femen)"
   ]
  },
  {
   "cell_type": "code",
   "execution_count": 99,
   "metadata": {},
   "outputs": [],
   "source": [
    "def simplifica(tabla):\n",
    "    for i in reversed(range(len(tabla))):\n",
    "        if tabla['x'].iloc[i] == 0: \n",
    "            tabla['n'].iloc[i] = 5\n",
    "            tabla['POBLACION'].iloc[i] = tabla['POBLACION'].iloc[i] + tabla['POBLACION'].iloc[i + 1] \n",
    "            tabla['apvLx'].iloc[i] = tabla['apvLx'].iloc[i] + tabla['apvLx'].iloc[i + 1]\n",
    "    return(tabla)\n"
   ]
  },
  {
   "cell_type": "code",
   "execution_count": 100,
   "metadata": {},
   "outputs": [
    {
     "name": "stdout",
     "output_type": "stream",
     "text": [
      "   Grupos_Edad   x  n  POBLACION       lx     apvLx         Tx   evx\n",
      "0       [0, 1)   0  5    5141690  1000000  4.940478  78.395713  78.4\n",
      "1       [1, 5)   1  4    4116357   989225  3.950355  77.405590  78.2\n",
      "2      [5, 10)   5  5    5346845   986585  4.930376  73.455234  74.5\n",
      "3     [10, 15)  10  5    5584258   985565  4.924305  68.524859  69.5\n",
      "4     [15, 20)  15  5    5577227   984157  4.914271  63.600554  64.6\n",
      "5     [20, 25)  20  5    5583731   981551  4.898172  58.686283  59.8\n",
      "6     [25, 30)  25  5    5473009   977718  4.876659  53.788112  55.0\n",
      "7     [30, 35)  30  5    5197783   972946  4.850406  48.911453  50.3\n",
      "8     [35, 40)  35  5    4784339   967216  4.818674  44.061047  45.6\n",
      "9     [40, 45)  40  5    4405008   960253  4.778730  39.242373  40.9\n",
      "10    [45, 50)  45  5    4200185   951239  4.724790  34.463643  36.2\n",
      "11    [50, 55)  50  5    3701984   938677  4.646654  29.738853  31.7\n",
      "12    [55, 60)  55  5    3129061   919985  4.529395  25.092199  27.3\n",
      "13    [60, 65)  60  5    2509383   891773  4.351304  20.562804  23.1\n",
      "14    [65, 70)  65  5    1890318   848749  4.082409  16.211500  19.1\n",
      "15    [70, 75)  70  5    1378059   784215  3.690647  12.129091  15.5\n",
      "16    [75, 80)  75  5    1001962   692044  3.145922   8.438444  12.2\n",
      "17    [80, 85)  80  5     643044   566325  2.440523   5.292522   9.3\n",
      "18    [85, 90)  85  5     353026   409884  1.631859   2.851999   7.0\n"
     ]
    },
    {
     "name": "stderr",
     "output_type": "stream",
     "text": [
      "C:\\Users\\oskka\\AppData\\Local\\Temp\\ipykernel_14324\\3020554423.py:4: FutureWarning: ChainedAssignmentError: behaviour will change in pandas 3.0!\n",
      "You are setting values through chained assignment. Currently this works in certain cases, but when using Copy-on-Write (which will become the default behaviour in pandas 3.0) this will never work to update the original DataFrame or Series, because the intermediate object on which we are setting values will behave as a copy.\n",
      "A typical example is when you are setting values in a column of a DataFrame, like:\n",
      "\n",
      "df[\"col\"][row_indexer] = value\n",
      "\n",
      "Use `df.loc[row_indexer, \"col\"] = values` instead, to perform the assignment in a single step and ensure this keeps updating the original `df`.\n",
      "\n",
      "See the caveats in the documentation: https://pandas.pydata.org/pandas-docs/stable/user_guide/indexing.html#returning-a-view-versus-a-copy\n",
      "\n",
      "  tabla['n'].iloc[i] = 5\n",
      "C:\\Users\\oskka\\AppData\\Local\\Temp\\ipykernel_14324\\3020554423.py:4: SettingWithCopyWarning: \n",
      "A value is trying to be set on a copy of a slice from a DataFrame\n",
      "\n",
      "See the caveats in the documentation: https://pandas.pydata.org/pandas-docs/stable/user_guide/indexing.html#returning-a-view-versus-a-copy\n",
      "  tabla['n'].iloc[i] = 5\n",
      "C:\\Users\\oskka\\AppData\\Local\\Temp\\ipykernel_14324\\3020554423.py:5: FutureWarning: ChainedAssignmentError: behaviour will change in pandas 3.0!\n",
      "You are setting values through chained assignment. Currently this works in certain cases, but when using Copy-on-Write (which will become the default behaviour in pandas 3.0) this will never work to update the original DataFrame or Series, because the intermediate object on which we are setting values will behave as a copy.\n",
      "A typical example is when you are setting values in a column of a DataFrame, like:\n",
      "\n",
      "df[\"col\"][row_indexer] = value\n",
      "\n",
      "Use `df.loc[row_indexer, \"col\"] = values` instead, to perform the assignment in a single step and ensure this keeps updating the original `df`.\n",
      "\n",
      "See the caveats in the documentation: https://pandas.pydata.org/pandas-docs/stable/user_guide/indexing.html#returning-a-view-versus-a-copy\n",
      "\n",
      "  tabla['POBLACION'].iloc[i] = tabla['POBLACION'].iloc[i] + tabla['POBLACION'].iloc[i + 1]\n",
      "C:\\Users\\oskka\\AppData\\Local\\Temp\\ipykernel_14324\\3020554423.py:5: SettingWithCopyWarning: \n",
      "A value is trying to be set on a copy of a slice from a DataFrame\n",
      "\n",
      "See the caveats in the documentation: https://pandas.pydata.org/pandas-docs/stable/user_guide/indexing.html#returning-a-view-versus-a-copy\n",
      "  tabla['POBLACION'].iloc[i] = tabla['POBLACION'].iloc[i] + tabla['POBLACION'].iloc[i + 1]\n",
      "C:\\Users\\oskka\\AppData\\Local\\Temp\\ipykernel_14324\\3020554423.py:6: FutureWarning: ChainedAssignmentError: behaviour will change in pandas 3.0!\n",
      "You are setting values through chained assignment. Currently this works in certain cases, but when using Copy-on-Write (which will become the default behaviour in pandas 3.0) this will never work to update the original DataFrame or Series, because the intermediate object on which we are setting values will behave as a copy.\n",
      "A typical example is when you are setting values in a column of a DataFrame, like:\n",
      "\n",
      "df[\"col\"][row_indexer] = value\n",
      "\n",
      "Use `df.loc[row_indexer, \"col\"] = values` instead, to perform the assignment in a single step and ensure this keeps updating the original `df`.\n",
      "\n",
      "See the caveats in the documentation: https://pandas.pydata.org/pandas-docs/stable/user_guide/indexing.html#returning-a-view-versus-a-copy\n",
      "\n",
      "  tabla['apvLx'].iloc[i] = tabla['apvLx'].iloc[i] + tabla['apvLx'].iloc[i + 1]\n",
      "C:\\Users\\oskka\\AppData\\Local\\Temp\\ipykernel_14324\\3020554423.py:6: SettingWithCopyWarning: \n",
      "A value is trying to be set on a copy of a slice from a DataFrame\n",
      "\n",
      "See the caveats in the documentation: https://pandas.pydata.org/pandas-docs/stable/user_guide/indexing.html#returning-a-view-versus-a-copy\n",
      "  tabla['apvLx'].iloc[i] = tabla['apvLx'].iloc[i] + tabla['apvLx'].iloc[i + 1]\n"
     ]
    }
   ],
   "source": [
    "tabla_mortalidad = simplifica(femen)\n",
    "tabla_mortalidad = tabla_mortalidad.drop(1)\n",
    "print(tabla_mortalidad)"
   ]
  },
  {
   "cell_type": "code",
   "execution_count": 105,
   "metadata": {},
   "outputs": [
    {
     "name": "stdout",
     "output_type": "stream",
     "text": [
      "   index Grupos_Edad   x  n  POBLACION      lx     apvLx         Tx   evx\n",
      "0      4    [15, 20)  15  5    5577227  984157  4.914271  63.600554  64.6\n",
      "1      5    [20, 25)  20  5    5583731  981551  4.898172  58.686283  59.8\n",
      "2      6    [25, 30)  25  5    5473009  977718  4.876659  53.788112  55.0\n",
      "3      7    [30, 35)  30  5    5197783  972946  4.850406  48.911453  50.3\n",
      "4      8    [35, 40)  35  5    4784339  967216  4.818674  44.061047  45.6\n",
      "5      9    [40, 45)  40  5    4405008  960253  4.778730  39.242373  40.9\n",
      "6     10    [45, 50)  45  5    4200185  951239  4.724790  34.463643  36.2\n",
      "  Grupos_Edad  edad_madn\n",
      "0    [15, 20)     126646\n",
      "1    [20, 25)     237784\n",
      "2    [25, 30)     227793\n",
      "3    [30, 35)     165932\n",
      "4    [35, 40)      83992\n",
      "5    [40, 45)      21909\n",
      "6    [45, 50)       1976\n"
     ]
    }
   ],
   "source": [
    "femenf = femenf.reset_index()\n",
    "print(femenf)\n",
    "print(nacim2)"
   ]
  },
  {
   "cell_type": "code",
   "execution_count": 114,
   "metadata": {},
   "outputs": [
    {
     "name": "stdout",
     "output_type": "stream",
     "text": [
      "   index Grupos_Edad   x  n  POBLACION      lx     apvLx         Tx   evx  \\\n",
      "0      4    [15, 20)  15  5    5577227  984157  4.914271  63.600554  64.6   \n",
      "1      5    [20, 25)  20  5    5583731  981551  4.898172  58.686283  59.8   \n",
      "2      6    [25, 30)  25  5    5473009  977718  4.876659  53.788112  55.0   \n",
      "3      7    [30, 35)  30  5    5197783  972946  4.850406  48.911453  50.3   \n",
      "4      8    [35, 40)  35  5    4784339  967216  4.818674  44.061047  45.6   \n",
      "5      9    [40, 45)  40  5    4405008  960253  4.778730  39.242373  40.9   \n",
      "6     10    [45, 50)  45  5    4200185  951239  4.724790  34.463643  36.2   \n",
      "\n",
      "  Grupos_Edad  edad_madn       5ma       tnr  \n",
      "0    [15, 20)     126646  0.022708  0.111592  \n",
      "1    [20, 25)     237784  0.042585  0.208589  \n",
      "2    [25, 30)     227793  0.041621  0.202972  \n",
      "3    [30, 35)     165932  0.031924  0.154842  \n",
      "4    [35, 40)      83992  0.017556  0.084595  \n",
      "5    [40, 45)      21909  0.004974  0.023768  \n",
      "6    [45, 50)       1976  0.000470  0.002223  \n"
     ]
    }
   ],
   "source": [
    "# Se fusionan las tablas de mortalidad y de nacimientos femeninos\n",
    "estable = pd.concat([femenf, nacim2], axis=1)\n",
    "\n",
    "# Tasa Específica de Fecundidad Femenina\n",
    "estable['5ma'] = (estable['edad_madn'] / estable['POBLACION'])\n",
    "# TEFF por APV en cada grupo de edad (considerando la mortalidad)\n",
    "estable['tnr'] = (estable['5ma'] * estable['apvLx'])\n",
    "# La suma corresponde a la Tasa Neta de Reproducción\n",
    "print(estable)"
   ]
  },
  {
   "cell_type": "code",
   "execution_count": null,
   "metadata": {},
   "outputs": [],
   "source": [
    "# TASA NETA DE REPRODUCCIÓN FEMENINA\n",
    "tnr = round(estable['tnr'].sum(), 3)\n",
    "r0 = round(mt.log(tnr) / 27, 5)\n",
    "print(r0)"
   ]
  },
  {
   "cell_type": "code",
   "execution_count": null,
   "metadata": {},
   "outputs": [],
   "source": [
    "estable['r0']=0\n",
    "estable['r1']=0\n",
    "estable['r2']=0\n",
    "estable['r3']=0"
   ]
  },
  {
   "cell_type": "code",
   "execution_count": null,
   "metadata": {},
   "outputs": [],
   "source": [
    "# Identificación de la Tasa de Crecimiento Intrínseca a través de iteraciones\n",
    "# Fuente: Preston, Heuveline & Guillot (2001, p: 149)\n",
    "def busca_r(tabla):\n",
    "    # Tasa de crecimiento inicial a partir de TNRF\n",
    "    r = round(mt.log((tabla['tnr'].sum())) / 27, 5)\n",
    "    # Iteraciones\n",
    "    for j in range(9, 13):\n",
    "        for i in range(len(tabla)):\n",
    "            tabla.iloc[i,j] = (mt.exp( (-r) * (tabla['x'].iloc[i] + 2.5) ) * tabla['tnr'].iloc[i])\n",
    "        yr = round(tabla.iloc[:,j].sum(), 5)\n",
    "        r +=  round((yr - 1) / 27, 5 )\n",
    "        \n",
    "    print(tabla)\n",
    "    print(yr)\n",
    "    print(r)\n",
    "    return r"
   ]
  },
  {
   "cell_type": "code",
   "execution_count": null,
   "metadata": {},
   "outputs": [],
   "source": [
    "r_intrinseca = busca_r(estable)"
   ]
  },
  {
   "cell_type": "code",
   "execution_count": null,
   "metadata": {},
   "outputs": [],
   "source": [
    "# Obtención de la población estable\n",
    "# Con base en la tasa de crecimiento intrínseca\n",
    "# Fuente: Preston, Heuveline & Guillot (2001, p: 150)\n",
    "\n",
    "# Radix: 1\n",
    "#femen['lx'] = femen['lx'] / 1000000\n",
    "\n",
    "# c_actual: Estructura de población femenina actual\n",
    "femen['c_actual'] = femen['POBLACION'] / femen['POBLACION'].sum()\n",
    "# Tx ...??? \n",
    "femen['b_inv'] = \"\"\n",
    "print(r_intrinseca)\n",
    "for i in range(len(femen)):\n",
    "    femen['b_inv'].iloc[i] = mt.exp((-r_intrinseca) * (femen['x'].iloc[i] + 2.5)) * (femen['apvLx'].iloc[i])\n",
    "print(femen)"
   ]
  },
  {
   "cell_type": "code",
   "execution_count": null,
   "metadata": {},
   "outputs": [],
   "source": [
    "\n",
    "# Tasa de Fecundidad\n",
    "# Ecuación 7.10b (Edad discreta, tabla abreviada)\n",
    "# Indicaciones de tabla 7.2 (p. 150)\n",
    "b_inv85 = mt.exp(-r_intrinseca * (85 + 7)) * femen['apvLx'].iloc[18:22].sum()\n",
    "b = round(1 / ( femen['b_inv'].sum() + b_inv85), 5)\n",
    "d = round(b-r_intrinseca, 5)\n",
    "print (\"r: \" + str(r_intrinseca)) \n",
    "print(\"b: \" + str(b))\n",
    "print(\"d: \" + str(d))"
   ]
  }
 ],
 "metadata": {
  "kernelspec": {
   "display_name": "Python 3",
   "language": "python",
   "name": "python3"
  },
  "language_info": {
   "codemirror_mode": {
    "name": "ipython",
    "version": 3
   },
   "file_extension": ".py",
   "mimetype": "text/x-python",
   "name": "python",
   "nbconvert_exporter": "python",
   "pygments_lexer": "ipython3",
   "version": "3.12.2"
  }
 },
 "nbformat": 4,
 "nbformat_minor": 2
}
