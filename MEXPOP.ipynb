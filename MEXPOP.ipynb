{
 "cells": [
  {
   "cell_type": "code",
   "execution_count": 1,
   "metadata": {},
   "outputs": [],
   "source": [
    "# Cargar paquetes\n",
    "import matplotlib.pyplot as plt\n",
    "import numpy as np\n",
    "import pandas as pd"
   ]
  },
  {
   "cell_type": "code",
   "execution_count": 2,
   "metadata": {},
   "outputs": [],
   "source": [
    "# Descargar datos de CONAPO: \n",
    "# https://datos.gob.mx/busca/dataset/proyecciones-de-la-poblacion-de-mexico-y-de-las-entidades-federativas-2020-2070\n",
    "\n",
    "# Asignar el directorio de trabajo, donde se encuentran los datos\n",
    "import os\n",
    "os.chdir(\"C:\\\\Users\\\\JoseC\\\\OneDrive\\\\Documents\\\\2023-2\\\\CONAPO\\\\ConDem50a19_ProyPob20a70\")"
   ]
  },
  {
   "cell_type": "code",
   "execution_count": 3,
   "metadata": {},
   "outputs": [],
   "source": [
    "# Importar datos de población a inicio de año (por año, edad y sexo)\n",
    "df = pd.read_excel('0_Pob_Inicio_1950_2070.xlsx', sheet_name=\"Hoja1\", usecols='A:G', nrows=744921)"
   ]
  },
  {
   "cell_type": "code",
   "execution_count": 4,
   "metadata": {},
   "outputs": [],
   "source": [
    "mexico = df[(df['ENTIDAD']==\"República Mexicana\") & (df['AÑO']==2022)]"
   ]
  },
  {
   "cell_type": "code",
   "execution_count": 5,
   "metadata": {},
   "outputs": [
    {
     "name": "stderr",
     "output_type": "stream",
     "text": [
      "C:\\Users\\JoseC\\AppData\\Local\\Temp\\ipykernel_12228\\1946359023.py:1: SettingWithCopyWarning: \n",
      "A value is trying to be set on a copy of a slice from a DataFrame.\n",
      "Try using .loc[row_indexer,col_indexer] = value instead\n",
      "\n",
      "See the caveats in the documentation: https://pandas.pydata.org/pandas-docs/stable/user_guide/indexing.html#returning-a-view-versus-a-copy\n",
      "  mexico['Grupos_Edad'] = pd.cut(x = mexico['EDAD'], bins=[0, 1, 5, 10, 15, 20, 25, 30, 35, 40,\n"
     ]
    }
   ],
   "source": [
    "mexico['Grupos_Edad'] = pd.cut(x = mexico['EDAD'], bins=[0, 1, 5, 10, 15, 20, 25, 30, 35, 40, \n",
    "                                                 45, 50, 55, 60, 65, 70, 75, 80, 85, 90, 95, 100, 105, max(mexico['EDAD'])],\n",
    "                           right=False)"
   ]
  },
  {
   "cell_type": "code",
   "execution_count": 6,
   "metadata": {},
   "outputs": [
    {
     "name": "stdout",
     "output_type": "stream",
     "text": [
      "        RENGLON   AÑO             ENTIDAD  CVE_GEO  EDAD     SEXO  POBLACION  \\\n",
      "381920   381921  2022  República Mexicana        0     0  Hombres    1065388   \n",
      "381921   381922  2022  República Mexicana        0     0  Mujeres    1025333   \n",
      "381922   381923  2022  República Mexicana        0     1  Hombres    1064898   \n",
      "381923   381924  2022  República Mexicana        0     1  Mujeres    1026196   \n",
      "381924   381925  2022  República Mexicana        0     2  Hombres    1065492   \n",
      "381925   381926  2022  República Mexicana        0     2  Mujeres    1028570   \n",
      "381926   381927  2022  República Mexicana        0     3  Hombres    1069400   \n",
      "381927   381928  2022  República Mexicana        0     3  Mujeres    1031407   \n",
      "381928   381929  2022  República Mexicana        0     4  Hombres    1068443   \n",
      "381929   381930  2022  República Mexicana        0     4  Mujeres    1030184   \n",
      "\n",
      "       Grupos_Edad  \n",
      "381920      [0, 1)  \n",
      "381921      [0, 1)  \n",
      "381922      [1, 5)  \n",
      "381923      [1, 5)  \n",
      "381924      [1, 5)  \n",
      "381925      [1, 5)  \n",
      "381926      [1, 5)  \n",
      "381927      [1, 5)  \n",
      "381928      [1, 5)  \n",
      "381929      [1, 5)  \n"
     ]
    }
   ],
   "source": [
    "print(mexico.iloc[0:10,:])"
   ]
  },
  {
   "cell_type": "code",
   "execution_count": 7,
   "metadata": {},
   "outputs": [],
   "source": [
    "# Agregar la suma de población por los estratos de ENTIDAD-SEXO-GRUPOS DE EDAD\n",
    "mexico2= mexico.groupby(['AÑO', 'SEXO','Grupos_Edad'], as_index=False)['POBLACION'].agg('sum')\n",
    "# as_index=False -> permite que las variables de clasificación se mantengan"
   ]
  },
  {
   "cell_type": "code",
   "execution_count": 8,
   "metadata": {},
   "outputs": [
    {
     "name": "stdout",
     "output_type": "stream",
     "text": [
      "     AÑO     SEXO Grupos_Edad  POBLACION\n",
      "0   2022  Hombres      [0, 1)    1065388\n",
      "1   2022  Hombres      [1, 5)    4268233\n",
      "2   2022  Hombres     [5, 10)    5548823\n",
      "3   2022  Hombres    [10, 15)    5787100\n",
      "4   2022  Hombres    [15, 20)    5698644\n",
      "5   2022  Hombres    [20, 25)    5652144\n",
      "6   2022  Hombres    [25, 30)    5461616\n",
      "7   2022  Hombres    [30, 35)    5029594\n",
      "8   2022  Hombres    [35, 40)    4330585\n",
      "9   2022  Hombres    [40, 45)    3737922\n",
      "10  2022  Hombres    [45, 50)    3638474\n",
      "11  2022  Hombres    [50, 55)    3316295\n",
      "12  2022  Hombres    [55, 60)    2832242\n",
      "13  2022  Hombres    [60, 65)    2249491\n",
      "14  2022  Hombres    [65, 70)    1660145\n",
      "15  2022  Hombres    [70, 75)    1184809\n",
      "16  2022  Hombres    [75, 80)     838851\n",
      "17  2022  Hombres    [80, 85)     518809\n",
      "18  2022  Hombres    [85, 90)     275698\n",
      "19  2022  Hombres    [90, 95)     119569\n",
      "20  2022  Hombres   [95, 100)      35796\n",
      "21  2022  Hombres  [100, 105)       6761\n",
      "22  2022  Hombres  [105, 109)        840\n",
      "23  2022  Mujeres      [0, 1)    1025333\n",
      "24  2022  Mujeres      [1, 5)    4116357\n",
      "25  2022  Mujeres     [5, 10)    5346845\n",
      "26  2022  Mujeres    [10, 15)    5584258\n",
      "27  2022  Mujeres    [15, 20)    5577227\n",
      "28  2022  Mujeres    [20, 25)    5583731\n",
      "29  2022  Mujeres    [25, 30)    5473009\n",
      "30  2022  Mujeres    [30, 35)    5197783\n",
      "31  2022  Mujeres    [35, 40)    4784339\n",
      "32  2022  Mujeres    [40, 45)    4405008\n",
      "33  2022  Mujeres    [45, 50)    4200185\n",
      "34  2022  Mujeres    [50, 55)    3701984\n",
      "35  2022  Mujeres    [55, 60)    3129061\n",
      "36  2022  Mujeres    [60, 65)    2509383\n",
      "37  2022  Mujeres    [65, 70)    1890318\n",
      "38  2022  Mujeres    [70, 75)    1378059\n",
      "39  2022  Mujeres    [75, 80)    1001962\n",
      "40  2022  Mujeres    [80, 85)     643044\n",
      "41  2022  Mujeres    [85, 90)     353026\n",
      "42  2022  Mujeres    [90, 95)     153059\n",
      "43  2022  Mujeres   [95, 100)      44985\n",
      "44  2022  Mujeres  [100, 105)       7894\n",
      "45  2022  Mujeres  [105, 109)        823\n"
     ]
    }
   ],
   "source": [
    "# Quedan las tres variables de identificación y el valor poblacional\n",
    "print(mexico2)"
   ]
  },
  {
   "cell_type": "code",
   "execution_count": 9,
   "metadata": {},
   "outputs": [],
   "source": [
    "# Importar el archivo de defunciones\n",
    "muertes = pd.read_excel('1_Defunciones_1950_2070.xlsx', sheet_name=\"Hoja1\", usecols='A:G', nrows=737661)"
   ]
  },
  {
   "cell_type": "code",
   "execution_count": 10,
   "metadata": {},
   "outputs": [
    {
     "data": {
      "text/html": [
       "<div>\n",
       "<style scoped>\n",
       "    .dataframe tbody tr th:only-of-type {\n",
       "        vertical-align: middle;\n",
       "    }\n",
       "\n",
       "    .dataframe tbody tr th {\n",
       "        vertical-align: top;\n",
       "    }\n",
       "\n",
       "    .dataframe thead th {\n",
       "        text-align: right;\n",
       "    }\n",
       "</style>\n",
       "<table border=\"1\" class=\"dataframe\">\n",
       "  <thead>\n",
       "    <tr style=\"text-align: right;\">\n",
       "      <th></th>\n",
       "      <th>RENGLON</th>\n",
       "      <th>AÑO</th>\n",
       "      <th>ENTIDAD</th>\n",
       "      <th>CVE_GEO</th>\n",
       "      <th>SEXO</th>\n",
       "      <th>EDAD</th>\n",
       "      <th>DEFUNCIONES</th>\n",
       "    </tr>\n",
       "  </thead>\n",
       "  <tbody>\n",
       "    <tr>\n",
       "      <th>737655</th>\n",
       "      <td>737656</td>\n",
       "      <td>2070</td>\n",
       "      <td>Zacatecas</td>\n",
       "      <td>32</td>\n",
       "      <td>Mujeres</td>\n",
       "      <td>107</td>\n",
       "      <td>23</td>\n",
       "    </tr>\n",
       "    <tr>\n",
       "      <th>737656</th>\n",
       "      <td>737657</td>\n",
       "      <td>2070</td>\n",
       "      <td>Zacatecas</td>\n",
       "      <td>32</td>\n",
       "      <td>Hombres</td>\n",
       "      <td>108</td>\n",
       "      <td>25</td>\n",
       "    </tr>\n",
       "    <tr>\n",
       "      <th>737657</th>\n",
       "      <td>737658</td>\n",
       "      <td>2070</td>\n",
       "      <td>Zacatecas</td>\n",
       "      <td>32</td>\n",
       "      <td>Mujeres</td>\n",
       "      <td>108</td>\n",
       "      <td>15</td>\n",
       "    </tr>\n",
       "    <tr>\n",
       "      <th>737658</th>\n",
       "      <td>737659</td>\n",
       "      <td>2070</td>\n",
       "      <td>Zacatecas</td>\n",
       "      <td>32</td>\n",
       "      <td>Hombres</td>\n",
       "      <td>109</td>\n",
       "      <td>19</td>\n",
       "    </tr>\n",
       "    <tr>\n",
       "      <th>737659</th>\n",
       "      <td>737660</td>\n",
       "      <td>2070</td>\n",
       "      <td>Zacatecas</td>\n",
       "      <td>32</td>\n",
       "      <td>Mujeres</td>\n",
       "      <td>109</td>\n",
       "      <td>10</td>\n",
       "    </tr>\n",
       "  </tbody>\n",
       "</table>\n",
       "</div>"
      ],
      "text/plain": [
       "        RENGLON   AÑO    ENTIDAD  CVE_GEO     SEXO  EDAD  DEFUNCIONES\n",
       "737655   737656  2070  Zacatecas       32  Mujeres   107           23\n",
       "737656   737657  2070  Zacatecas       32  Hombres   108           25\n",
       "737657   737658  2070  Zacatecas       32  Mujeres   108           15\n",
       "737658   737659  2070  Zacatecas       32  Hombres   109           19\n",
       "737659   737660  2070  Zacatecas       32  Mujeres   109           10"
      ]
     },
     "execution_count": 10,
     "metadata": {},
     "output_type": "execute_result"
    }
   ],
   "source": [
    "muertes.tail()"
   ]
  },
  {
   "cell_type": "code",
   "execution_count": 11,
   "metadata": {},
   "outputs": [],
   "source": [
    "# Seleccionar las filas que corresponden al total nacional, hasta el 2023.\n",
    "muertes2 = muertes[(muertes['ENTIDAD']==\"República Mexicana\") & (muertes['AÑO']==2022)]"
   ]
  },
  {
   "cell_type": "code",
   "execution_count": 12,
   "metadata": {},
   "outputs": [
    {
     "name": "stderr",
     "output_type": "stream",
     "text": [
      "C:\\Users\\JoseC\\AppData\\Local\\Temp\\ipykernel_12228\\4129893267.py:2: SettingWithCopyWarning: \n",
      "A value is trying to be set on a copy of a slice from a DataFrame.\n",
      "Try using .loc[row_indexer,col_indexer] = value instead\n",
      "\n",
      "See the caveats in the documentation: https://pandas.pydata.org/pandas-docs/stable/user_guide/indexing.html#returning-a-view-versus-a-copy\n",
      "  muertes2['Grupos_Edad'] = pd.cut(x = muertes2['EDAD'], bins=[0, 1, 5, 10, 15, 20, 25, 30, 35, 40,\n"
     ]
    }
   ],
   "source": [
    "# Crear intervalos de grupos quinquenales de edad.\n",
    "muertes2['Grupos_Edad'] = pd.cut(x = muertes2['EDAD'], bins=[0, 1, 5, 10, 15, 20, 25, 30, 35, 40, \n",
    "                                                 45, 50, 55, 60, 65, 70, 75, 80, 85, 90, 95, 100, 105, max(muertes2['EDAD'])],\n",
    "                           right=False)\n",
    "    # Intervalo abierto por la derecha"
   ]
  },
  {
   "cell_type": "code",
   "execution_count": 13,
   "metadata": {},
   "outputs": [],
   "source": [
    "# Agregar la suma de población por los estratos de AÑO-SEXO-GRUPOS DE EDAD\n",
    "muertes2= muertes2.groupby(['AÑO', 'SEXO','Grupos_Edad'], as_index=False)['DEFUNCIONES'].agg('sum')"
   ]
  },
  {
   "cell_type": "code",
   "execution_count": 14,
   "metadata": {},
   "outputs": [
    {
     "data": {
      "text/plain": [
       "(46, 4)"
      ]
     },
     "execution_count": 14,
     "metadata": {},
     "output_type": "execute_result"
    }
   ],
   "source": [
    "# Base de datos de población y muertes con la misma estructura.\n",
    "mexico2.shape\n",
    "muertes2.shape"
   ]
  },
  {
   "cell_type": "code",
   "execution_count": 15,
   "metadata": {},
   "outputs": [],
   "source": [
    "# Se fusionan las tablas de población y de defunciones\n",
    "tabla = pd.merge(mexico2, muertes2, how='left', on=['AÑO', 'SEXO', 'Grupos_Edad'])"
   ]
  },
  {
   "cell_type": "code",
   "execution_count": 16,
   "metadata": {},
   "outputs": [],
   "source": [
    "# Se obtiene la edad de inicio de cada intervalo\n",
    "tabla['x'] = tabla['Grupos_Edad'].apply(lambda intervalo: intervalo.left)"
   ]
  },
  {
   "cell_type": "code",
   "execution_count": 17,
   "metadata": {},
   "outputs": [
    {
     "name": "stdout",
     "output_type": "stream",
     "text": [
      "     AÑO     SEXO Grupos_Edad  POBLACION  DEFUNCIONES    x\n",
      "0   2022  Hombres      [0, 1)    1065388        14134    0\n",
      "1   2022  Hombres      [1, 5)    4268233         3088    1\n",
      "2   2022  Hombres     [5, 10)    5548823         1190    5\n",
      "3   2022  Hombres    [10, 15)    5787100         2382   10\n",
      "4   2022  Hombres    [15, 20)    5698644         7659   15\n",
      "5   2022  Hombres    [20, 25)    5652144        16228   20\n",
      "6   2022  Hombres    [25, 30)    5461616        22619   25\n",
      "7   2022  Hombres    [30, 35)    5029594        24549   30\n",
      "8   2022  Hombres    [35, 40)    4330585        22417   35\n",
      "9   2022  Hombres    [40, 45)    3737922        20023   40\n",
      "10  2022  Hombres    [45, 50)    3638474        21606   45\n",
      "11  2022  Hombres    [50, 55)    3316295        24746   50\n",
      "12  2022  Hombres    [55, 60)    2832242        28493   55\n",
      "13  2022  Hombres    [60, 65)    2249491        32342   60\n",
      "14  2022  Hombres    [65, 70)    1660145        34992   65\n",
      "15  2022  Hombres    [70, 75)    1184809        36482   70\n",
      "16  2022  Hombres    [75, 80)     838851        38512   75\n",
      "17  2022  Hombres    [80, 85)     518809        35711   80\n",
      "18  2022  Hombres    [85, 90)     275698        28332   85\n",
      "19  2022  Hombres    [90, 95)     119569        18406   90\n",
      "20  2022  Hombres   [95, 100)      35796         8439   95\n",
      "21  2022  Hombres  [100, 105)       6761         2343  100\n",
      "22  2022  Hombres  [105, 109)        840          423  105\n",
      "23  2022  Mujeres      [0, 1)    1025333        11108    0\n",
      "24  2022  Mujeres      [1, 5)    4116357         2750    1\n",
      "25  2022  Mujeres     [5, 10)    5346845         1106    5\n",
      "26  2022  Mujeres    [10, 15)    5584258         1597   10\n",
      "27  2022  Mujeres    [15, 20)    5577227         2957   15\n",
      "28  2022  Mujeres    [20, 25)    5583731         4370   20\n",
      "29  2022  Mujeres    [25, 30)    5473009         5356   25\n",
      "30  2022  Mujeres    [30, 35)    5197783         6140   30\n",
      "31  2022  Mujeres    [35, 40)    4784339         6913   35\n",
      "32  2022  Mujeres    [40, 45)    4405008         8309   40\n",
      "33  2022  Mujeres    [45, 50)    4200185        11167   45\n",
      "34  2022  Mujeres    [50, 55)    3701984        14892   50\n",
      "35  2022  Mujeres    [55, 60)    3129061        19490   55\n",
      "36  2022  Mujeres    [60, 65)    2509383        24812   60\n",
      "37  2022  Mujeres    [65, 70)    1890318        29882   65\n",
      "38  2022  Mujeres    [70, 75)    1378059        34416   70\n",
      "39  2022  Mujeres    [75, 80)    1001962        40041   75\n",
      "40  2022  Mujeres    [80, 85)     643044        41220   80\n",
      "41  2022  Mujeres    [85, 90)     353026        36133   85\n",
      "42  2022  Mujeres    [90, 95)     153059        25040   90\n",
      "43  2022  Mujeres   [95, 100)      44985        11909   95\n",
      "44  2022  Mujeres  [100, 105)       7894         3238  100\n",
      "45  2022  Mujeres  [105, 109)        823          526  105\n"
     ]
    }
   ],
   "source": [
    "print(tabla)\n",
    "#list(range(1950, 2024))"
   ]
  },
  {
   "cell_type": "code",
   "execution_count": 18,
   "metadata": {},
   "outputs": [],
   "source": [
    "# Genera variables vacías: sobrevivientes, intervalo n, \n",
    "\n",
    "tabla['Tasa.Mortalidad'] = 0\n",
    "tabla['n'] = 0\n",
    "tabla['nax'] = 0\n",
    "tabla['qx'] = 0\n",
    "tabla['px'] = 0\n",
    "tabla['lx'] = 0\n",
    "tabla['apvLx'] = 0\n",
    "tabla['Tx'] = 0\n",
    "tabla['evx'] = 0"
   ]
  },
  {
   "cell_type": "code",
   "execution_count": 19,
   "metadata": {},
   "outputs": [],
   "source": [
    "# Función para calcular los sobrevivientes de la Tabla de Mortalidad\n",
    "\n",
    "def sobreviviente(df):\n",
    "    for j in range(1950, 2024):\n",
    "        df_anio=df[(df['AÑO']==j)]\n",
    "                \n",
    "        for i in range(len(df_anio)):\n",
    "           \n",
    "            # 1) Intervalo n por grupo de edad\n",
    "            if df_anio['x'].iloc[i]==0:\n",
    "                df_anio['n'].iloc[i] = 1\n",
    "            elif df_anio['x'].iloc[i]==1:\n",
    "                df_anio['n'].iloc[i] = 4\n",
    "            else:\n",
    "                df_anio['n'].iloc[i] = 5\n",
    "            \n",
    "            # 2) Tasa de mortalidad\n",
    "            #if df_anio['x'].iloc[i] < 100:\n",
    "            df_anio['Tasa.Mortalidad'].iloc[i] = (df_anio['DEFUNCIONES'].iloc[i] / df_anio['POBLACION'].iloc[i])\n",
    "            #else:\n",
    "            #    df_anio['Tasa.Mortalidad'].iloc[i] = 1\n",
    "            \n",
    "            # 2) Años Persona Vividos por grupo de edad (nax)\n",
    "            # 2.1) Grupo de 0 a 1 años.\n",
    "            if df_anio['x'].iloc[i]==0:\n",
    "                if df_anio['Tasa.Mortalidad'].iloc[i] >= 0.107:\n",
    "                    if df_anio['SEXO'].iloc[i] == \"Hombres\":\n",
    "                        df_anio['nax'].iloc[i] = 0.330\n",
    "                    else:\n",
    "                        df_anio['nax'].iloc[i] = 0.350\n",
    "                else:\n",
    "                    if df_anio['SEXO'].iloc[i] == \"Hombres\":\n",
    "                        df_anio['nax'].iloc[i] = 0.045 + 2.684 * df_anio['Tasa.Mortalidad'].iloc[i]\n",
    "                    else:\n",
    "                        df_anio['nax'].iloc[i] = 0.053 + 2.8 * df_anio['Tasa.Mortalidad'].iloc[i]\n",
    "            \n",
    "            # 2.2) Grupo de 1 a 5 años.\n",
    "            elif df_anio['x'].iloc[i]==1:\n",
    "                if df_anio['Tasa.Mortalidad'].iloc[i-1] >= 0.107:\n",
    "                    if df_anio['SEXO'].iloc[i] == \"Hombres\":\n",
    "                        df_anio['nax'].iloc[i] = 1.352\n",
    "                    else:\n",
    "                        df_anio['nax'].iloc[i] = 1.361\n",
    "                else:\n",
    "                    if df_anio['SEXO'].iloc[i] == \"Hombres\":\n",
    "                        df_anio['nax'].iloc[i] = 1.651 - 2.816 * df_anio['Tasa.Mortalidad'].iloc[i]\n",
    "                    else:\n",
    "                        df_anio['nax'].iloc[i] = 1.522 - 1.518 * df_anio['Tasa.Mortalidad'].iloc[i]\n",
    "                        \n",
    "            # 2.3) Grupos de 5 o más años.\n",
    "            else:\n",
    "                df_anio['nax'].iloc[i] = df_anio['n'].iloc[i] / 2\n",
    "            \n",
    "            # 3) Probabilidad de fallecer a la edad x (Preston, Heuveline & Guillot, 2001, p. 43 y sig.)\n",
    "            #if df_anio['x'].iloc[i] < 105 :\n",
    "                #FUNCIÓN 3.1 CON BASE EN nax\n",
    "                #df_anio['qx'].iloc[i] = (df_anio['n'].iloc[i] * df_anio['Tasa.Mortalidad'].iloc[i]) / ( 1 + (df_anio['n'].iloc[i] - df_anio['nax'].iloc[i]) * df_anio['Tasa.Mortalidad'].iloc[i])\n",
    "                #Función 3.2 con base en nmx\n",
    "            df_anio['qx'].iloc[i] = (2 * df_anio['n'].iloc[i] * df_anio['Tasa.Mortalidad'].iloc[i] ) / (2 + df_anio['n'].iloc[i] * df_anio['Tasa.Mortalidad'].iloc[i])\n",
    "            #else:\n",
    "            #    df_anio['qx'].iloc[i] = 1\n",
    "                \n",
    "            if df_anio['qx'].iloc[i] < 1:\n",
    "                df_anio['qx'].iloc[i] = df_anio['qx'].iloc[i]\n",
    "            else:\n",
    "                df_anio['qx'].iloc[i] = 1\n",
    "            # 4) Probabilidad de sobrevivir a la edad x\n",
    "            df_anio['px'].iloc[i] = 1 - df_anio['qx'].iloc[i]\n",
    "            \n",
    "            # 5) Cálculo de Sobrevivientes a la edad exacta x\n",
    "            if df_anio['x'].iloc[i]==0:\n",
    "                df_anio['lx'].iloc[i] = 1000000\n",
    "            else:\n",
    "                df_anio['lx'].iloc[i] = round(df_anio['lx'].iloc[i-1]*(1-df_anio['qx'].iloc[i-1]))\n",
    "            \n",
    "            # 6) Cálculo de apv_Lx = (sobrevivientes en x+n * n) + (fallecidos antes de x+n * años vividos en promedio)\n",
    "            df_anio['apvLx'].iloc[i] = round((df_anio['lx'].iloc[i] - df_anio['lx'].iloc[i] * df_anio['qx'].iloc[i]) * df_anio['n'].iloc[i]) + round((df_anio['lx'].iloc[i] * df_anio['qx'].iloc[i] * df_anio['nax'].iloc[i]), 1 )\n",
    "            \n",
    "        # 7) Cálculo de Tx\n",
    "        # Una vez obtenida la tabla de vida, tomo la suma de Lx y descuento los APV de cada grupo\n",
    "        for i in reversed(range(len(df_anio))):\n",
    "            if df_anio['x'].iloc[i]==105:\n",
    "                df_anio['Tx'].iloc[i] = df_anio['apvLx'].iloc[i]\n",
    "            else:\n",
    "                df_anio['Tx'].iloc[i] = df_anio['apvLx'].iloc[i] + df_anio['Tx'].iloc[i+1]\n",
    "            #else:\n",
    "            #    df_anio['Tx'].iloc[i] = 0\n",
    "                \n",
    "        # 8) Cálculo de la Esperanza de Vida\n",
    "            df_anio['evx'].iloc[i] = round(df_anio['Tx'].iloc[i] / df_anio['lx'].iloc[i], 1)\n",
    "                \n",
    "        # 9) Concatenar las tablas de cada año\n",
    "        if j==1950:\n",
    "            new = df_anio\n",
    "        else:    \n",
    "            new = pd.concat([new, df_anio], axis=0)\n",
    "    return(new)\n",
    "         "
   ]
  },
  {
   "cell_type": "code",
   "execution_count": 20,
   "metadata": {},
   "outputs": [
    {
     "name": "stderr",
     "output_type": "stream",
     "text": [
      "C:\\Users\\JoseC\\AppData\\Local\\Temp\\ipykernel_12228\\2235821195.py:11: SettingWithCopyWarning: \n",
      "A value is trying to be set on a copy of a slice from a DataFrame\n",
      "\n",
      "See the caveats in the documentation: https://pandas.pydata.org/pandas-docs/stable/user_guide/indexing.html#returning-a-view-versus-a-copy\n",
      "  df_anio['n'].iloc[i] = 1\n",
      "C:\\Users\\JoseC\\AppData\\Local\\Temp\\ipykernel_12228\\2235821195.py:19: SettingWithCopyWarning: \n",
      "A value is trying to be set on a copy of a slice from a DataFrame\n",
      "\n",
      "See the caveats in the documentation: https://pandas.pydata.org/pandas-docs/stable/user_guide/indexing.html#returning-a-view-versus-a-copy\n",
      "  df_anio['Tasa.Mortalidad'].iloc[i] = (df_anio['DEFUNCIONES'].iloc[i] / df_anio['POBLACION'].iloc[i])\n",
      "C:\\Users\\JoseC\\AppData\\Local\\Temp\\ipykernel_12228\\2235821195.py:33: SettingWithCopyWarning: \n",
      "A value is trying to be set on a copy of a slice from a DataFrame\n",
      "\n",
      "See the caveats in the documentation: https://pandas.pydata.org/pandas-docs/stable/user_guide/indexing.html#returning-a-view-versus-a-copy\n",
      "  df_anio['nax'].iloc[i] = 0.045 + 2.684 * df_anio['Tasa.Mortalidad'].iloc[i]\n",
      "C:\\Users\\JoseC\\AppData\\Local\\Temp\\ipykernel_12228\\2235821195.py:59: SettingWithCopyWarning: \n",
      "A value is trying to be set on a copy of a slice from a DataFrame\n",
      "\n",
      "See the caveats in the documentation: https://pandas.pydata.org/pandas-docs/stable/user_guide/indexing.html#returning-a-view-versus-a-copy\n",
      "  df_anio['qx'].iloc[i] = (2 * df_anio['n'].iloc[i] * df_anio['Tasa.Mortalidad'].iloc[i] ) / (2 + df_anio['n'].iloc[i] * df_anio['Tasa.Mortalidad'].iloc[i])\n",
      "C:\\Users\\JoseC\\AppData\\Local\\Temp\\ipykernel_12228\\2235821195.py:68: SettingWithCopyWarning: \n",
      "A value is trying to be set on a copy of a slice from a DataFrame\n",
      "\n",
      "See the caveats in the documentation: https://pandas.pydata.org/pandas-docs/stable/user_guide/indexing.html#returning-a-view-versus-a-copy\n",
      "  df_anio['px'].iloc[i] = 1 - df_anio['qx'].iloc[i]\n",
      "C:\\Users\\JoseC\\AppData\\Local\\Temp\\ipykernel_12228\\2235821195.py:72: SettingWithCopyWarning: \n",
      "A value is trying to be set on a copy of a slice from a DataFrame\n",
      "\n",
      "See the caveats in the documentation: https://pandas.pydata.org/pandas-docs/stable/user_guide/indexing.html#returning-a-view-versus-a-copy\n",
      "  df_anio['lx'].iloc[i] = 1000000\n",
      "C:\\Users\\JoseC\\AppData\\Local\\Temp\\ipykernel_12228\\2235821195.py:77: SettingWithCopyWarning: \n",
      "A value is trying to be set on a copy of a slice from a DataFrame\n",
      "\n",
      "See the caveats in the documentation: https://pandas.pydata.org/pandas-docs/stable/user_guide/indexing.html#returning-a-view-versus-a-copy\n",
      "  df_anio['apvLx'].iloc[i] = round((df_anio['lx'].iloc[i] - df_anio['lx'].iloc[i] * df_anio['qx'].iloc[i]) * df_anio['n'].iloc[i]) + round((df_anio['lx'].iloc[i] * df_anio['qx'].iloc[i] * df_anio['nax'].iloc[i]), 1 )\n",
      "C:\\Users\\JoseC\\AppData\\Local\\Temp\\ipykernel_12228\\2235821195.py:13: SettingWithCopyWarning: \n",
      "A value is trying to be set on a copy of a slice from a DataFrame\n",
      "\n",
      "See the caveats in the documentation: https://pandas.pydata.org/pandas-docs/stable/user_guide/indexing.html#returning-a-view-versus-a-copy\n",
      "  df_anio['n'].iloc[i] = 4\n",
      "C:\\Users\\JoseC\\AppData\\Local\\Temp\\ipykernel_12228\\2235821195.py:74: SettingWithCopyWarning: \n",
      "A value is trying to be set on a copy of a slice from a DataFrame\n",
      "\n",
      "See the caveats in the documentation: https://pandas.pydata.org/pandas-docs/stable/user_guide/indexing.html#returning-a-view-versus-a-copy\n",
      "  df_anio['lx'].iloc[i] = round(df_anio['lx'].iloc[i-1]*(1-df_anio['qx'].iloc[i-1]))\n",
      "C:\\Users\\JoseC\\AppData\\Local\\Temp\\ipykernel_12228\\2235821195.py:15: SettingWithCopyWarning: \n",
      "A value is trying to be set on a copy of a slice from a DataFrame\n",
      "\n",
      "See the caveats in the documentation: https://pandas.pydata.org/pandas-docs/stable/user_guide/indexing.html#returning-a-view-versus-a-copy\n",
      "  df_anio['n'].iloc[i] = 5\n",
      "C:\\Users\\JoseC\\AppData\\Local\\Temp\\ipykernel_12228\\2235821195.py:83: SettingWithCopyWarning: \n",
      "A value is trying to be set on a copy of a slice from a DataFrame\n",
      "\n",
      "See the caveats in the documentation: https://pandas.pydata.org/pandas-docs/stable/user_guide/indexing.html#returning-a-view-versus-a-copy\n",
      "  df_anio['Tx'].iloc[i] = df_anio['apvLx'].iloc[i]\n",
      "C:\\Users\\JoseC\\AppData\\Local\\Temp\\ipykernel_12228\\2235821195.py:90: RuntimeWarning: invalid value encountered in longlong_scalars\n",
      "  df_anio['evx'].iloc[i] = round(df_anio['Tx'].iloc[i] / df_anio['lx'].iloc[i], 1)\n",
      "C:\\Users\\JoseC\\AppData\\Local\\Temp\\ipykernel_12228\\2235821195.py:90: SettingWithCopyWarning: \n",
      "A value is trying to be set on a copy of a slice from a DataFrame\n",
      "\n",
      "See the caveats in the documentation: https://pandas.pydata.org/pandas-docs/stable/user_guide/indexing.html#returning-a-view-versus-a-copy\n",
      "  df_anio['evx'].iloc[i] = round(df_anio['Tx'].iloc[i] / df_anio['lx'].iloc[i], 1)\n",
      "C:\\Users\\JoseC\\AppData\\Local\\Temp\\ipykernel_12228\\2235821195.py:85: SettingWithCopyWarning: \n",
      "A value is trying to be set on a copy of a slice from a DataFrame\n",
      "\n",
      "See the caveats in the documentation: https://pandas.pydata.org/pandas-docs/stable/user_guide/indexing.html#returning-a-view-versus-a-copy\n",
      "  df_anio['Tx'].iloc[i] = df_anio['apvLx'].iloc[i] + df_anio['Tx'].iloc[i+1]\n"
     ]
    }
   ],
   "source": [
    "nuevo = sobreviviente(tabla)"
   ]
  },
  {
   "cell_type": "code",
   "execution_count": 21,
   "metadata": {},
   "outputs": [
    {
     "data": {
      "text/html": [
       "<div>\n",
       "<style scoped>\n",
       "    .dataframe tbody tr th:only-of-type {\n",
       "        vertical-align: middle;\n",
       "    }\n",
       "\n",
       "    .dataframe tbody tr th {\n",
       "        vertical-align: top;\n",
       "    }\n",
       "\n",
       "    .dataframe thead th {\n",
       "        text-align: right;\n",
       "    }\n",
       "</style>\n",
       "<table border=\"1\" class=\"dataframe\">\n",
       "  <thead>\n",
       "    <tr style=\"text-align: right;\">\n",
       "      <th></th>\n",
       "      <th>AÑO</th>\n",
       "      <th>SEXO</th>\n",
       "      <th>Grupos_Edad</th>\n",
       "      <th>POBLACION</th>\n",
       "      <th>DEFUNCIONES</th>\n",
       "      <th>x</th>\n",
       "      <th>Tasa.Mortalidad</th>\n",
       "      <th>n</th>\n",
       "      <th>nax</th>\n",
       "      <th>qx</th>\n",
       "      <th>px</th>\n",
       "      <th>lx</th>\n",
       "      <th>apvLx</th>\n",
       "      <th>Tx</th>\n",
       "      <th>evx</th>\n",
       "    </tr>\n",
       "  </thead>\n",
       "  <tbody>\n",
       "    <tr>\n",
       "      <th>0</th>\n",
       "      <td>2022</td>\n",
       "      <td>Hombres</td>\n",
       "      <td>[0, 1)</td>\n",
       "      <td>1065388</td>\n",
       "      <td>14134</td>\n",
       "      <td>0</td>\n",
       "      <td>0.013267</td>\n",
       "      <td>1</td>\n",
       "      <td>0.080607</td>\n",
       "      <td>0.013179</td>\n",
       "      <td>0.986821</td>\n",
       "      <td>1000000</td>\n",
       "      <td>987883.3</td>\n",
       "      <td>72013707.1</td>\n",
       "      <td>72.0</td>\n",
       "    </tr>\n",
       "    <tr>\n",
       "      <th>1</th>\n",
       "      <td>2022</td>\n",
       "      <td>Hombres</td>\n",
       "      <td>[1, 5)</td>\n",
       "      <td>4268233</td>\n",
       "      <td>3088</td>\n",
       "      <td>1</td>\n",
       "      <td>0.000723</td>\n",
       "      <td>4</td>\n",
       "      <td>1.648963</td>\n",
       "      <td>0.002890</td>\n",
       "      <td>0.997110</td>\n",
       "      <td>986821</td>\n",
       "      <td>3940579.3</td>\n",
       "      <td>71025823.8</td>\n",
       "      <td>72.0</td>\n",
       "    </tr>\n",
       "    <tr>\n",
       "      <th>2</th>\n",
       "      <td>2022</td>\n",
       "      <td>Hombres</td>\n",
       "      <td>[5, 10)</td>\n",
       "      <td>5548823</td>\n",
       "      <td>1190</td>\n",
       "      <td>5</td>\n",
       "      <td>0.000214</td>\n",
       "      <td>5</td>\n",
       "      <td>2.500000</td>\n",
       "      <td>0.001072</td>\n",
       "      <td>0.998928</td>\n",
       "      <td>983969</td>\n",
       "      <td>4917208.4</td>\n",
       "      <td>67085244.5</td>\n",
       "      <td>68.2</td>\n",
       "    </tr>\n",
       "    <tr>\n",
       "      <th>3</th>\n",
       "      <td>2022</td>\n",
       "      <td>Hombres</td>\n",
       "      <td>[10, 15)</td>\n",
       "      <td>5787100</td>\n",
       "      <td>2382</td>\n",
       "      <td>10</td>\n",
       "      <td>0.000412</td>\n",
       "      <td>5</td>\n",
       "      <td>2.500000</td>\n",
       "      <td>0.002056</td>\n",
       "      <td>0.997944</td>\n",
       "      <td>982914</td>\n",
       "      <td>4909518.0</td>\n",
       "      <td>62168036.1</td>\n",
       "      <td>63.2</td>\n",
       "    </tr>\n",
       "    <tr>\n",
       "      <th>4</th>\n",
       "      <td>2022</td>\n",
       "      <td>Hombres</td>\n",
       "      <td>[15, 20)</td>\n",
       "      <td>5698644</td>\n",
       "      <td>7659</td>\n",
       "      <td>15</td>\n",
       "      <td>0.001344</td>\n",
       "      <td>5</td>\n",
       "      <td>2.500000</td>\n",
       "      <td>0.006698</td>\n",
       "      <td>0.993302</td>\n",
       "      <td>980893</td>\n",
       "      <td>4888040.9</td>\n",
       "      <td>57258518.1</td>\n",
       "      <td>58.4</td>\n",
       "    </tr>\n",
       "  </tbody>\n",
       "</table>\n",
       "</div>"
      ],
      "text/plain": [
       "    AÑO     SEXO Grupos_Edad  POBLACION  DEFUNCIONES   x  Tasa.Mortalidad  n  \\\n",
       "0  2022  Hombres      [0, 1)    1065388        14134   0         0.013267  1   \n",
       "1  2022  Hombres      [1, 5)    4268233         3088   1         0.000723  4   \n",
       "2  2022  Hombres     [5, 10)    5548823         1190   5         0.000214  5   \n",
       "3  2022  Hombres    [10, 15)    5787100         2382  10         0.000412  5   \n",
       "4  2022  Hombres    [15, 20)    5698644         7659  15         0.001344  5   \n",
       "\n",
       "        nax        qx        px       lx      apvLx          Tx   evx  \n",
       "0  0.080607  0.013179  0.986821  1000000   987883.3  72013707.1  72.0  \n",
       "1  1.648963  0.002890  0.997110   986821  3940579.3  71025823.8  72.0  \n",
       "2  2.500000  0.001072  0.998928   983969  4917208.4  67085244.5  68.2  \n",
       "3  2.500000  0.002056  0.997944   982914  4909518.0  62168036.1  63.2  \n",
       "4  2.500000  0.006698  0.993302   980893  4888040.9  57258518.1  58.4  "
      ]
     },
     "execution_count": 21,
     "metadata": {},
     "output_type": "execute_result"
    }
   ],
   "source": [
    "nuevo.head()\n",
    "#print(nuevo.iloc[23:46,7:15])"
   ]
  },
  {
   "cell_type": "code",
   "execution_count": 136,
   "metadata": {},
   "outputs": [],
   "source": [
    "nuevo.to_clipboard()"
   ]
  },
  {
   "cell_type": "code",
   "execution_count": 22,
   "metadata": {},
   "outputs": [],
   "source": [
    "x = nuevo.x[(nuevo['AÑO']==2022) & (nuevo['SEXO']==\"Hombres\")]\n",
    "y1 = nuevo.evx[(nuevo['AÑO']==2022) & (nuevo['SEXO']==\"Hombres\")]\n",
    "y2 = nuevo.evx[(nuevo['AÑO']==2022) & (nuevo['SEXO']==\"Mujeres\")]\n"
   ]
  },
  {
   "cell_type": "code",
   "execution_count": 23,
   "metadata": {},
   "outputs": [
    {
     "data": {
      "image/png": "[encoded data removed]",
      "text/plain": [
       "<Figure size 640x480 with 1 Axes>"
      ]
     },
     "metadata": {},
     "output_type": "display_data"
    }
   ],
   "source": [
    "fig, axs = plt.subplots()\n",
    "fig.suptitle('Esperanza de vida por edad quinquenal')\n",
    "axs.plot(x, y1, label='Hombres')\n",
    "axs.plot(x, y2, label='Mujeres')\n",
    "\n",
    "#Legend\n",
    "axs.legend()\n",
    "\n",
    "plt.show()"
   ]
  },
  {
   "cell_type": "code",
   "execution_count": 24,
   "metadata": {},
   "outputs": [],
   "source": [
    "#Descarga de datos y crear repositorio en directorio de trabajo\n",
    "#Fuente: https://www.inegi.org.mx/contenidos/programas/natalidad/datosabiertos/2022/conjunto_de_datos_natalidad_2022_csv.zip\n",
    "df = pd.read_csv('C:\\\\Users\\\\JoseC\\\\OneDrive\\\\Documents\\\\2023-2\\\\Fecundidad\\\\natalidad_2022\\\\conjunto_de_datos\\\\conjunto_de_datos_natalidad_2022.csv')  "
   ]
  },
  {
   "cell_type": "code",
   "execution_count": 25,
   "metadata": {},
   "outputs": [],
   "source": [
    "#nacim = df.query('sexo == 2' and 'edad_madn < 99')\n",
    "nacim = df[(df['sexo']==2) & (df['edad_madn']<99)]\n",
    "nacim = nacim[['edad_madn']]"
   ]
  },
  {
   "cell_type": "code",
   "execution_count": 26,
   "metadata": {},
   "outputs": [],
   "source": [
    "nacim['Grupos_Edad'] = pd.cut(x = nacim['edad_madn'], bins=[15, 20, 25, 30, 35, 40, 45, 50], right=False)\n",
    "nacim2= nacim.groupby(['Grupos_Edad'], as_index=False).count()"
   ]
  },
  {
   "cell_type": "code",
   "execution_count": 27,
   "metadata": {},
   "outputs": [
    {
     "name": "stdout",
     "output_type": "stream",
     "text": [
      "  Grupos_Edad  edad_madn\n",
      "0    [15, 20)     126646\n",
      "1    [20, 25)     237784\n",
      "2    [25, 30)     227793\n",
      "3    [30, 35)     165932\n",
      "4    [35, 40)      83992\n",
      "5    [40, 45)      21909\n",
      "6    [45, 50)       1976\n"
     ]
    }
   ],
   "source": [
    "nacim2.shape\n",
    "print(nacim2)"
   ]
  },
  {
   "cell_type": "code",
   "execution_count": 28,
   "metadata": {},
   "outputs": [
    {
     "name": "stdout",
     "output_type": "stream",
     "text": [
      "   Grupos_Edad   x  POBLACION     apvLx\n",
      "27    [15, 20)  15    5577227  4.914271\n",
      "28    [20, 25)  20    5583731  4.898172\n",
      "29    [25, 30)  25    5473009  4.876659\n",
      "30    [30, 35)  30    5197783  4.850406\n",
      "31    [35, 40)  35    4784339  4.818674\n",
      "32    [40, 45)  40    4405008  4.778730\n",
      "33    [45, 50)  45    4200185  4.724790\n"
     ]
    }
   ],
   "source": [
    "#Poblaciones estables\n",
    "femen = nuevo.iloc[23:46, 2:15]\n",
    "femen = femen[femen['x'].between(15, 45)]\n",
    "femen = femen[['Grupos_Edad', 'x', 'POBLACION', 'apvLx']]\n",
    "femen['apvLx'] = femen['apvLx']/1000000\n",
    "print(femen)"
   ]
  },
  {
   "cell_type": "code",
   "execution_count": 108,
   "metadata": {},
   "outputs": [
    {
     "name": "stdout",
     "output_type": "stream",
     "text": [
      "  Grupos_Edad   x  POBLACION     apvLx  edad_madn       5ma       tnr\n",
      "0    [15, 20)  15    5577227  4.914271     126646  0.022708  0.111592\n",
      "1    [20, 25)  20    5583731  4.898172     237784  0.042585  0.208589\n",
      "2    [25, 30)  25    5473009  4.876659     227793  0.041621  0.202972\n",
      "3    [30, 35)  30    5197783  4.850406     165932  0.031924  0.154842\n",
      "4    [35, 40)  35    4784339  4.818674      83992  0.017556  0.084595\n",
      "5    [40, 45)  40    4405008  4.778730      21909  0.004974  0.023768\n",
      "6    [45, 50)  45    4200185  4.724790       1976  0.000470  0.002223\n"
     ]
    }
   ],
   "source": [
    "# Se fusionan las tablas de mortalidad y de nacimientos femeninos\n",
    "estable = pd.merge(femen, nacim2, how='left', on=['Grupos_Edad'])\n",
    "# Tasa de macimientos femeninos por mujer, según grupo de edad\n",
    "estable['5ma'] = (estable['edad_madn'] / estable['POBLACION'])\n",
    "# Tasa Neta de Reproducción\n",
    "estable['tnr'] = (estable['5ma'] * estable['apvLx'])\n",
    "print(estable)"
   ]
  },
  {
   "cell_type": "code",
   "execution_count": 110,
   "metadata": {},
   "outputs": [
    {
     "name": "stdout",
     "output_type": "stream",
     "text": [
      "0.789\n"
     ]
    }
   ],
   "source": [
    "tnr = round(estable['tnr'].sum(), 3)\n",
    "print(tnr)"
   ]
  },
  {
   "cell_type": "code",
   "execution_count": 116,
   "metadata": {},
   "outputs": [
    {
     "name": "stdout",
     "output_type": "stream",
     "text": [
      "-0.00878\n"
     ]
    }
   ],
   "source": [
    "import math as mt\n",
    "r0 = round(mt.log(tnr) / 27, 5)\n",
    "print(r0)"
   ]
  },
  {
   "cell_type": "code",
   "execution_count": null,
   "metadata": {},
   "outputs": [],
   "source": [
    "estable['r0']=0\n",
    "estable['r1']=0\n",
    "estable['r2']=0\n",
    "estable['r3']=0"
   ]
  },
  {
   "cell_type": "code",
   "execution_count": null,
   "metadata": {},
   "outputs": [],
   "source": [
    "def busca_r(tabla):\n",
    "    for i in range(len(tabla)):\n",
    "        tabla['r0'].iloc[i] = round(mt.log((tabla['tnr'].sum())) / 27, 5)"
   ]
  }
 ],
 "metadata": {
  "kernelspec": {
   "display_name": "base",
   "language": "python",
   "name": "python3"
  },
  "language_info": {
   "codemirror_mode": {
    "name": "ipython",
    "version": 3
   },
   "file_extension": ".py",
   "mimetype": "text/x-python",
   "name": "python",
   "nbconvert_exporter": "python",
   "pygments_lexer": "ipython3",
   "version": "3.9.13"
  }
 },
 "nbformat": 4,
 "nbformat_minor": 2
}
